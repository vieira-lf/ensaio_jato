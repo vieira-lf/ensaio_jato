{
  "metadata": {
    "language_info": {
      "codemirror_mode": {
        "name": "python",
        "version": 3
      },
      "file_extension": ".py",
      "mimetype": "text/x-python",
      "name": "python",
      "nbconvert_exporter": "python",
      "pygments_lexer": "ipython3",
      "version": "3.8"
    },
    "kernelspec": {
      "name": "python",
      "display_name": "Python (Pyodide)",
      "language": "python"
    }
  },
  "nbformat_minor": 4,
  "nbformat": 4,
  "cells": [
    {
      "cell_type": "code",
      "source": "from matplotlib import pyplot as plt\nimport numpy as np\nimport pandas as pd",
      "metadata": {
        "trusted": true
      },
      "execution_count": 1,
      "outputs": []
    },
    {
      "cell_type": "code",
      "source": "## Input\n# Tube\nQd = 350.0 #m3/h\nRd = 0.170 #m\n# Fluid\nrho = 1400 # kg/m3\nK = 6.3 #?\nn = 0.2 #?\n# Jet\nU_jet =  1.0 # m/s?\nr_jet =  0.003 # m\n#Constant\npi = 3.1415",
      "metadata": {
        "trusted": true
      },
      "execution_count": 41,
      "outputs": []
    },
    {
      "cell_type": "code",
      "source": "Q = Qd /60/60 #m3/s\ngamma_dot = Q/(pi * Rd**3.0) * (3 + 1/n)\nprint(f'Shear rate at tube wall = {gamma_dot:.1f} 1/s') # Pa",
      "metadata": {
        "trusted": true
      },
      "execution_count": 42,
      "outputs": [
        {
          "name": "stdout",
          "text": "Shear rate at tube wall = 50.4 1/s\n",
          "output_type": "stream"
        }
      ]
    },
    {
      "cell_type": "code",
      "source": "eta = K * gamma_dot**(n-1)\nprint(f'Viscosity = {eta:.3f} Pa.s') # Pa",
      "metadata": {
        "trusted": true
      },
      "execution_count": 43,
      "outputs": [
        {
          "name": "stdout",
          "text": "Viscosity = 0.274 Pa.s\n",
          "output_type": "stream"
        }
      ]
    },
    {
      "cell_type": "code",
      "source": "tau = eta * gamma_dot\nprint(f'Shear stress at tube wall = {tau:.2f} Pa')",
      "metadata": {
        "trusted": true
      },
      "execution_count": 44,
      "outputs": [
        {
          "name": "stdout",
          "text": "Shear stress at tube wall = 13.80 Pa\n",
          "output_type": "stream"
        }
      ]
    },
    {
      "cell_type": "code",
      "source": "nu = eta/rho\nprint(f'Kinematic viscosity = {nu:.0e} m/s') # Pa",
      "metadata": {
        "trusted": true
      },
      "execution_count": 45,
      "outputs": [
        {
          "name": "stdout",
          "text": "Kinematic viscosity = 2e-04 m/s\n",
          "output_type": "stream"
        }
      ]
    },
    {
      "cell_type": "code",
      "source": "#Uo = (U_jet/1000)/60 #m3/s #??\n#Uo = U_jet\n#Re_jet = 2 * r_jet * Uo / nu\n#tau_jet = 0.179 * rho * Uo**2 * Re_jet**(-0.182) * 3**(-2.0)\n#print(f'Jet shear stress = {tau_jet:.2f} Pa')",
      "metadata": {
        "trusted": true
      },
      "execution_count": 46,
      "outputs": []
    },
    {
      "cell_type": "code",
      "source": "Uo = ( tau/(0.179 * rho * (2 * r_jet  / nu)**(-0.182) * 3**(-2.0)) )**(1/((2-0.182) )) \nprint(f'Fluid velocity at jet = {Uo:.2f} m/s')",
      "metadata": {
        "trusted": true
      },
      "execution_count": 47,
      "outputs": [
        {
          "name": "stdout",
          "text": "Fluid velocity at jet = 0.96 m/s\n",
          "output_type": "stream"
        }
      ]
    },
    {
      "cell_type": "code",
      "source": "Re_jet = 2 * r_jet * Uo / nu\nprint(f'Reynolds jet = {Re_jet:.2f}')",
      "metadata": {
        "trusted": true
      },
      "execution_count": 48,
      "outputs": [
        {
          "name": "stdout",
          "text": "Reynolds jet = 29.37\n",
          "output_type": "stream"
        }
      ]
    },
    {
      "cell_type": "code",
      "source": "",
      "metadata": {},
      "execution_count": null,
      "outputs": []
    },
    {
      "cell_type": "code",
      "source": "",
      "metadata": {},
      "execution_count": null,
      "outputs": []
    },
    {
      "cell_type": "code",
      "source": "",
      "metadata": {},
      "execution_count": null,
      "outputs": []
    }
  ]
}